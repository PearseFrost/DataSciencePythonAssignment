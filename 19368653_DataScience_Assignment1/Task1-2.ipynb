{
 "cells": [
  {
   "cell_type": "code",
   "execution_count": 23,
   "id": "d73a0d68",
   "metadata": {},
   "outputs": [],
   "source": [
    "#Importing all necessary libraries\n",
    "import json, requests, urllib\n",
    "from pathlib import Path\n",
    "from datetime import datetime\n",
    "import pandas as pd\n",
    "import matplotlib\n",
    "import matplotlib.pyplot as plt\n",
    "%matplotlib inline\n",
    "import http.client"
   ]
  },
  {
   "cell_type": "code",
   "execution_count": 24,
   "id": "6669bf7b",
   "metadata": {},
   "outputs": [],
   "source": [
    "#Creating a directory for raw storage if needed\n",
    "dir_raw = Path(\"raw\")\n",
    "dir_raw.mkdir(parents=True, exist_ok=True)"
   ]
  },
  {
   "cell_type": "code",
   "execution_count": 25,
   "id": "db935f2f",
   "metadata": {},
   "outputs": [],
   "source": [
    "#Contructing URL for premier league top scorers\n",
    "connection = http.client.HTTPConnection('api.football-data.org')\n",
    "headers = { 'X-Auth-Token': '75bdeed7b23e492490268e34590915e0' }\n",
    "connection.request('GET', '/v2/competitions/PL/scorers', None, headers )\n",
    "response = json.loads(connection.getresponse().read().decode())\n"
   ]
  },
  {
   "cell_type": "code",
   "execution_count": 26,
   "id": "3414f5d6",
   "metadata": {},
   "outputs": [],
   "source": [
    "#Creating DataFrame for storage of data i want to use from each scorer\n",
    "df1 = pd.DataFrame(columns=[\"Player Name\",\"Team\",\"Nationality\",\"Position\",\"League Goals\"])"
   ]
  },
  {
   "cell_type": "code",
   "execution_count": 27,
   "id": "88d110ef",
   "metadata": {},
   "outputs": [],
   "source": [
    "#Loop to store player name,team that player plays for,nation the player is from,\n",
    "#position they play in, number of goals scored by player\n",
    "for scorer in response['scorers']:\n",
    "    player_name=scorer['player']['name']\n",
    "    player_team=scorer['team']['name']\n",
    "    player_nation=scorer['player']['nationality']\n",
    "    player_position=scorer['player']['position']\n",
    "    player_goals=scorer['numberOfGoals']\n",
    "#Stores all the data above in dataframe\n",
    "    df1 = df1.append({\"Player Name\":player_name,\"Team\":player_team,\n",
    "                \"Nationality\":player_nation,\"Position\":player_position,\n",
    "               \"League Goals\":player_goals},ignore_index=True)"
   ]
  },
  {
   "cell_type": "code",
   "execution_count": 28,
   "id": "437989f6",
   "metadata": {},
   "outputs": [
    {
     "data": {
      "text/html": [
       "<div>\n",
       "<style scoped>\n",
       "    .dataframe tbody tr th:only-of-type {\n",
       "        vertical-align: middle;\n",
       "    }\n",
       "\n",
       "    .dataframe tbody tr th {\n",
       "        vertical-align: top;\n",
       "    }\n",
       "\n",
       "    .dataframe thead th {\n",
       "        text-align: right;\n",
       "    }\n",
       "</style>\n",
       "<table border=\"1\" class=\"dataframe\">\n",
       "  <thead>\n",
       "    <tr style=\"text-align: right;\">\n",
       "      <th></th>\n",
       "      <th>Player Name</th>\n",
       "      <th>Team</th>\n",
       "      <th>Nationality</th>\n",
       "      <th>Position</th>\n",
       "      <th>League Goals</th>\n",
       "    </tr>\n",
       "  </thead>\n",
       "  <tbody>\n",
       "    <tr>\n",
       "      <th>0</th>\n",
       "      <td>Mohamed Salah</td>\n",
       "      <td>Liverpool FC</td>\n",
       "      <td>Egypt</td>\n",
       "      <td>Attacker</td>\n",
       "      <td>10</td>\n",
       "    </tr>\n",
       "    <tr>\n",
       "      <th>1</th>\n",
       "      <td>Jamie Vardy</td>\n",
       "      <td>Leicester City FC</td>\n",
       "      <td>England</td>\n",
       "      <td>Attacker</td>\n",
       "      <td>7</td>\n",
       "    </tr>\n",
       "    <tr>\n",
       "      <th>2</th>\n",
       "      <td>Michail Antonio</td>\n",
       "      <td>West Ham United FC</td>\n",
       "      <td>England</td>\n",
       "      <td>Midfielder</td>\n",
       "      <td>6</td>\n",
       "    </tr>\n",
       "    <tr>\n",
       "      <th>3</th>\n",
       "      <td>Sadio Mané</td>\n",
       "      <td>Liverpool FC</td>\n",
       "      <td>Senegal</td>\n",
       "      <td>Attacker</td>\n",
       "      <td>6</td>\n",
       "    </tr>\n",
       "    <tr>\n",
       "      <th>4</th>\n",
       "      <td>Bruno Fernandes</td>\n",
       "      <td>Manchester United FC</td>\n",
       "      <td>Portugal</td>\n",
       "      <td>Midfielder</td>\n",
       "      <td>4</td>\n",
       "    </tr>\n",
       "  </tbody>\n",
       "</table>\n",
       "</div>"
      ],
      "text/plain": [
       "       Player Name                  Team Nationality    Position League Goals\n",
       "0    Mohamed Salah          Liverpool FC       Egypt    Attacker           10\n",
       "1      Jamie Vardy     Leicester City FC     England    Attacker            7\n",
       "2  Michail Antonio    West Ham United FC     England  Midfielder            6\n",
       "3       Sadio Mané          Liverpool FC     Senegal    Attacker            6\n",
       "4  Bruno Fernandes  Manchester United FC    Portugal  Midfielder            4"
      ]
     },
     "execution_count": 28,
     "metadata": {},
     "output_type": "execute_result"
    }
   ],
   "source": [
    "df1.head()"
   ]
  },
  {
   "cell_type": "code",
   "execution_count": 29,
   "id": "b2902daa",
   "metadata": {},
   "outputs": [],
   "source": [
    "#Contructing URL for Serie A top scorers\n",
    "connection1 = http.client.HTTPConnection('api.football-data.org')\n",
    "connection1.request('GET', '/v2/competitions/SA/scorers', None, headers )\n",
    "response1 = json.loads(connection1.getresponse().read().decode())"
   ]
  },
  {
   "cell_type": "code",
   "execution_count": 30,
   "id": "e884990a",
   "metadata": {},
   "outputs": [],
   "source": [
    "#Creating DataFrame for storage of data i want to use from each scorer\n",
    "df2 = pd.DataFrame(columns=[\"Player Name\",\"Team\",\"Nationality\",\"Position\",\"League Goals\"])"
   ]
  },
  {
   "cell_type": "code",
   "execution_count": 31,
   "id": "5a05040f",
   "metadata": {},
   "outputs": [],
   "source": [
    "#Loop to store player name,team that player plays for,nation the player is from,\n",
    "#position they play in, number of goals scored by player\n",
    "for scorer1 in response1['scorers']:\n",
    "    player_name1=scorer1['player']['name']\n",
    "    player_team1=scorer1['team']['name']\n",
    "    player_nation1=scorer1['player']['nationality']\n",
    "    player_position1=scorer1['player']['position']\n",
    "    player_goals1=scorer1['numberOfGoals']\n",
    "#Stores all the data above in dataframe\n",
    "    df2 = df2.append({\"Player Name\":player_name1,\"Team\":player_team1,\n",
    "                \"Nationality\":player_nation1,\"Position\":player_position1,\n",
    "               \"League Goals\":player_goals1},ignore_index=True)"
   ]
  },
  {
   "cell_type": "code",
   "execution_count": 32,
   "id": "8387c7c4",
   "metadata": {},
   "outputs": [
    {
     "data": {
      "text/html": [
       "<div>\n",
       "<style scoped>\n",
       "    .dataframe tbody tr th:only-of-type {\n",
       "        vertical-align: middle;\n",
       "    }\n",
       "\n",
       "    .dataframe tbody tr th {\n",
       "        vertical-align: top;\n",
       "    }\n",
       "\n",
       "    .dataframe thead th {\n",
       "        text-align: right;\n",
       "    }\n",
       "</style>\n",
       "<table border=\"1\" class=\"dataframe\">\n",
       "  <thead>\n",
       "    <tr style=\"text-align: right;\">\n",
       "      <th></th>\n",
       "      <th>Player Name</th>\n",
       "      <th>Team</th>\n",
       "      <th>Nationality</th>\n",
       "      <th>Position</th>\n",
       "      <th>League Goals</th>\n",
       "    </tr>\n",
       "  </thead>\n",
       "  <tbody>\n",
       "    <tr>\n",
       "      <th>0</th>\n",
       "      <td>Ciro Immobile</td>\n",
       "      <td>SS Lazio</td>\n",
       "      <td>Italy</td>\n",
       "      <td>Attacker</td>\n",
       "      <td>9</td>\n",
       "    </tr>\n",
       "    <tr>\n",
       "      <th>1</th>\n",
       "      <td>Dušan Vlahović</td>\n",
       "      <td>ACF Fiorentina</td>\n",
       "      <td>Serbia</td>\n",
       "      <td>Attacker</td>\n",
       "      <td>8</td>\n",
       "    </tr>\n",
       "    <tr>\n",
       "      <th>2</th>\n",
       "      <td>Giovanni Simeone</td>\n",
       "      <td>Hellas Verona FC</td>\n",
       "      <td>Argentina</td>\n",
       "      <td>Attacker</td>\n",
       "      <td>8</td>\n",
       "    </tr>\n",
       "    <tr>\n",
       "      <th>3</th>\n",
       "      <td>Edin Džeko</td>\n",
       "      <td>FC Internazionale Milano</td>\n",
       "      <td>Bosnia and Herzegovina</td>\n",
       "      <td>Attacker</td>\n",
       "      <td>7</td>\n",
       "    </tr>\n",
       "    <tr>\n",
       "      <th>4</th>\n",
       "      <td>João Pedro Galvão</td>\n",
       "      <td>Cagliari Calcio</td>\n",
       "      <td>Brazil</td>\n",
       "      <td>Midfielder</td>\n",
       "      <td>6</td>\n",
       "    </tr>\n",
       "  </tbody>\n",
       "</table>\n",
       "</div>"
      ],
      "text/plain": [
       "         Player Name                      Team             Nationality  \\\n",
       "0      Ciro Immobile                  SS Lazio                   Italy   \n",
       "1     Dušan Vlahović            ACF Fiorentina                  Serbia   \n",
       "2   Giovanni Simeone          Hellas Verona FC               Argentina   \n",
       "3         Edin Džeko  FC Internazionale Milano  Bosnia and Herzegovina   \n",
       "4  João Pedro Galvão           Cagliari Calcio                  Brazil   \n",
       "\n",
       "     Position League Goals  \n",
       "0    Attacker            9  \n",
       "1    Attacker            8  \n",
       "2    Attacker            8  \n",
       "3    Attacker            7  \n",
       "4  Midfielder            6  "
      ]
     },
     "execution_count": 32,
     "metadata": {},
     "output_type": "execute_result"
    }
   ],
   "source": [
    "df2.head()"
   ]
  },
  {
   "cell_type": "code",
   "execution_count": 33,
   "id": "93c1aa53",
   "metadata": {},
   "outputs": [],
   "source": [
    "#Contructing URL for Bundesliga top scorers\n",
    "connection2 = http.client.HTTPConnection('api.football-data.org')\n",
    "connection2.request('GET', '/v2/competitions/BL1/scorers', None, headers )\n",
    "response2 = json.loads(connection2.getresponse().read().decode())"
   ]
  },
  {
   "cell_type": "code",
   "execution_count": 34,
   "id": "4ab0101b",
   "metadata": {},
   "outputs": [],
   "source": [
    "#Creating DataFrame for storage of data i want to use from each scorer\n",
    "df3 = pd.DataFrame(columns=[\"Player Name\",\"Team\",\"Nationality\",\"Position\",\"League Goals\"])"
   ]
  },
  {
   "cell_type": "code",
   "execution_count": 35,
   "id": "ce8af0aa",
   "metadata": {},
   "outputs": [],
   "source": [
    "#Loop to store player name,team that player plays for,nation the player is from,\n",
    "#position they play in, number of goals scored by player\n",
    "for scorer2 in response2['scorers']:\n",
    "    player_name2=scorer2['player']['name']\n",
    "    player_team2=scorer2['team']['name']\n",
    "    player_nation2=scorer2['player']['nationality']\n",
    "    player_position2=scorer2['player']['position']\n",
    "    player_goals2=scorer2['numberOfGoals']\n",
    "#Stores all the data above in dataframe   \n",
    "    df3 = df3.append({\"Player Name\":player_name2,\"Team\":player_team2,\n",
    "                \"Nationality\":player_nation2,\"Position\":player_position2,\n",
    "               \"League Goals\":player_goals2},ignore_index=True)"
   ]
  },
  {
   "cell_type": "code",
   "execution_count": 36,
   "id": "1636ff88",
   "metadata": {},
   "outputs": [
    {
     "data": {
      "text/html": [
       "<div>\n",
       "<style scoped>\n",
       "    .dataframe tbody tr th:only-of-type {\n",
       "        vertical-align: middle;\n",
       "    }\n",
       "\n",
       "    .dataframe tbody tr th {\n",
       "        vertical-align: top;\n",
       "    }\n",
       "\n",
       "    .dataframe thead th {\n",
       "        text-align: right;\n",
       "    }\n",
       "</style>\n",
       "<table border=\"1\" class=\"dataframe\">\n",
       "  <thead>\n",
       "    <tr style=\"text-align: right;\">\n",
       "      <th></th>\n",
       "      <th>Player Name</th>\n",
       "      <th>Team</th>\n",
       "      <th>Nationality</th>\n",
       "      <th>Position</th>\n",
       "      <th>League Goals</th>\n",
       "    </tr>\n",
       "  </thead>\n",
       "  <tbody>\n",
       "    <tr>\n",
       "      <th>0</th>\n",
       "      <td>Robert Lewandowski</td>\n",
       "      <td>FC Bayern München</td>\n",
       "      <td>Poland</td>\n",
       "      <td>Attacker</td>\n",
       "      <td>12</td>\n",
       "    </tr>\n",
       "    <tr>\n",
       "      <th>1</th>\n",
       "      <td>Erling Haaland</td>\n",
       "      <td>Borussia Dortmund</td>\n",
       "      <td>Norway</td>\n",
       "      <td>Attacker</td>\n",
       "      <td>9</td>\n",
       "    </tr>\n",
       "    <tr>\n",
       "      <th>2</th>\n",
       "      <td>Patrik Schick</td>\n",
       "      <td>Bayer 04 Leverkusen</td>\n",
       "      <td>Czech Republic</td>\n",
       "      <td>Attacker</td>\n",
       "      <td>8</td>\n",
       "    </tr>\n",
       "    <tr>\n",
       "      <th>3</th>\n",
       "      <td>Taiwo Awoniyi</td>\n",
       "      <td>1. FC Union Berlin</td>\n",
       "      <td>Nigeria</td>\n",
       "      <td>Attacker</td>\n",
       "      <td>7</td>\n",
       "    </tr>\n",
       "    <tr>\n",
       "      <th>4</th>\n",
       "      <td>Anthony Modeste</td>\n",
       "      <td>1. FC Köln</td>\n",
       "      <td>France</td>\n",
       "      <td>Attacker</td>\n",
       "      <td>6</td>\n",
       "    </tr>\n",
       "  </tbody>\n",
       "</table>\n",
       "</div>"
      ],
      "text/plain": [
       "          Player Name                 Team     Nationality  Position  \\\n",
       "0  Robert Lewandowski    FC Bayern München          Poland  Attacker   \n",
       "1      Erling Haaland    Borussia Dortmund          Norway  Attacker   \n",
       "2       Patrik Schick  Bayer 04 Leverkusen  Czech Republic  Attacker   \n",
       "3       Taiwo Awoniyi   1. FC Union Berlin         Nigeria  Attacker   \n",
       "4     Anthony Modeste           1. FC Köln          France  Attacker   \n",
       "\n",
       "  League Goals  \n",
       "0           12  \n",
       "1            9  \n",
       "2            8  \n",
       "3            7  \n",
       "4            6  "
      ]
     },
     "execution_count": 36,
     "metadata": {},
     "output_type": "execute_result"
    }
   ],
   "source": [
    "df3.head()"
   ]
  },
  {
   "cell_type": "code",
   "execution_count": 37,
   "id": "d3928e84",
   "metadata": {},
   "outputs": [],
   "source": [
    "#Contructing URL for La Liga top scorers\n",
    "connection3 = http.client.HTTPConnection('api.football-data.org')\n",
    "connection3.request('GET', '/v2/competitions/PD/scorers', None, headers )\n",
    "response3 = json.loads(connection3.getresponse().read().decode())"
   ]
  },
  {
   "cell_type": "code",
   "execution_count": 38,
   "id": "90ce8a8e",
   "metadata": {},
   "outputs": [],
   "source": [
    "#Creating DataFrame for storage of data i want to use from each scorer\n",
    "df4 = pd.DataFrame(columns=[\"Player Name\",\"Team\",\"Nationality\",\"Position\",\"League Goals\"])"
   ]
  },
  {
   "cell_type": "code",
   "execution_count": 39,
   "id": "be9c24b7",
   "metadata": {},
   "outputs": [],
   "source": [
    "#Loop to store player name,team that player plays for,nation the player is from,\n",
    "#position they play in, number of goals scored by player\n",
    "for scorer3 in response3['scorers']:\n",
    "    player_name3=scorer3['player']['name']\n",
    "    player_team3=scorer3['team']['name']\n",
    "    player_nation3=scorer3['player']['nationality']\n",
    "    player_position3=scorer3['player']['position']\n",
    "    player_goals3=scorer3['numberOfGoals']\n",
    "#Stores all the data above in dataframe\n",
    "    df4 = df4.append({\"Player Name\":player_name3,\"Team\":player_team3,\n",
    "                \"Nationality\":player_nation3,\"Position\":player_position3,\n",
    "               \"League Goals\":player_goals3},ignore_index=True)"
   ]
  },
  {
   "cell_type": "code",
   "execution_count": 40,
   "id": "87127f7c",
   "metadata": {},
   "outputs": [],
   "source": [
    "#Makes one dataFrame, mergeing all dataFrames created earlier\n",
    "top_scorers=pd.concat([df1,df2,df3,df4],ignore_index=True)"
   ]
  },
  {
   "cell_type": "code",
   "execution_count": 41,
   "id": "b20335db",
   "metadata": {},
   "outputs": [],
   "source": [
    "#Makes a json file to store the new dataFrame in\n",
    "top_scorers.to_json(\"TopScorers.json\")"
   ]
  },
  {
   "cell_type": "code",
   "execution_count": null,
   "id": "72a30f4d",
   "metadata": {},
   "outputs": [],
   "source": []
  }
 ],
 "metadata": {
  "kernelspec": {
   "display_name": "Python 3",
   "language": "python",
   "name": "python3"
  },
  "language_info": {
   "codemirror_mode": {
    "name": "ipython",
    "version": 3
   },
   "file_extension": ".py",
   "mimetype": "text/x-python",
   "name": "python",
   "nbconvert_exporter": "python",
   "pygments_lexer": "ipython3",
   "version": "3.8.8"
  }
 },
 "nbformat": 4,
 "nbformat_minor": 5
}
